{
 "cells": [
  {
   "cell_type": "code",
   "execution_count": null,
   "metadata": {},
   "outputs": [],
   "source": [
    "import numpy as np\n",
    "import matplotlib.pyplot as plt\n",
    "\n",
    "num_customer = 100\n",
    "num_restaurants = 10\n",
    "t_initial_period = 100\n",
    "t_final = 365\n",
    "p_going_restaurant = 0.7\n",
    "unhappiness_bomb_diameter = 0.2\n",
    "num_unhappy_days = 20\n",
    "\n",
    "# Create coordinates of customer and restaurants\n",
    "coord_customer = np.random.rand(num_customer,2)\n",
    "coord_restaurants = np.random.rand(num_restaurants,2)\n",
    "plt.figure(figsize=(5,5))\n",
    "plt.scatter(coord_customer[:,0],coord_customer[:,1],s=5,c='b')\n",
    "plt.scatter(coord_restaurants[:,0],coord_restaurants[:,1],s=50,c='r')\n",
    "plt.title(\"Coordinates of Customer and Restaurants\")\n",
    "plt.show()"
   ]
  },
  {
   "cell_type": "code",
   "execution_count": null,
   "metadata": {},
   "outputs": [],
   "source": [
    "# Distance and probability calcualtion for each customer\n",
    "import scipy as sp\n",
    "from scipy.spatial.distance import cdist\n",
    "dist_customer_restaurants = cdist(coord_restaurants,coord_customer) # Pairwise Euclidean distance\n",
    "dist_normalization = dist_customer_restaurants.sum(axis=0) #Normalize the distances\n",
    "\n",
    "# Create separate probabilities for weekdays and weekends and add staying at home as a final probability\n",
    "p_customer_restaurant = np.divide(dist_customer_restaurants,dist_normalization)\n",
    "p_customer_restaurant_weekdays = p_customer_restaurant*p_going_restaurant\n",
    "p_customer_restaurant_weekdays = np.concatenate((p_customer_restaurant_weekdays,np.full((1,num_customer),1-p_going_restaurant)))\n",
    "p_customer_restaurant_weekends = p_customer_restaurant*p_going_restaurant/2\n",
    "p_customer_restaurant_weekends = np.concatenate((p_customer_restaurant_weekends,np.full((1,num_customer),1-p_going_restaurant/2)))"
   ]
  },
  {
   "cell_type": "code",
   "execution_count": null,
   "metadata": {},
   "outputs": [],
   "source": [
    "idx_restaurans = np.arange(num_restaurants+1)\n",
    "# visit_customer holds everyday visits for every customers. Rows are customers, columns are days\n",
    "visit_customer = np.zeros((num_customer,t_final))\n",
    "\n",
    "# Create weekdays and weekends\n",
    "i_days = np.arange(t_final)\n",
    "days_weekdays = np.logical_and(i_days%7<5,i_days<t_initial_period)\n",
    "days_weekends = np.logical_and(i_days%7>=5,i_days<t_initial_period)\n",
    "\n",
    "# Assign visits by sampling with replacement over visiting probabilities for every person\n",
    "# Since visits are independent, all visits can be sampled simultaneously, given that probability distribution doesn't change\n",
    "for i in range(num_customer):\n",
    "    visit_customer[i,days_weekdays] = np.random.choice(idx_restaurans,np.sum(days_weekdays),p=p_customer_restaurant_weekdays[:,i])\n",
    "    visit_customer[i,days_weekends] = np.random.choice(idx_restaurans,np.sum(days_weekends),p=p_customer_restaurant_weekends[:,i])"
   ]
  },
  {
   "cell_type": "code",
   "execution_count": null,
   "metadata": {},
   "outputs": [],
   "source": [
    "# Create Histogram for Weekdays and Weekends visit to see the probability change\n",
    "H_weekdays, _ = np.histogram(visit_customer[:,days_weekdays],bins=num_restaurants+1)\n",
    "H_weekends, _ = np.histogram(visit_customer[:,days_weekends],bins=num_restaurants+1)\n",
    "\n",
    "# Normalize visit numbers by number of days to calculate a comparable metric\n",
    "plt.bar(idx_restaurans,H_weekdays/np.sum(days_weekdays),0.3)\n",
    "plt.bar(idx_restaurans+0.3,H_weekends/np.sum(days_weekends),0.3)\n",
    "plt.title('Expected number of customers per restaurant per day on weekdays and weekends')\n",
    "plt.xlabel('Restaurant #')\n",
    "plt.ylabel('# of customers')\n",
    "plt.legend(['Weekdays','Weekends'])\n",
    "plt.xticks(idx_restaurans,[str(x) for x in range(1,num_restaurants+1)]+['Home'])\n",
    "plt.show()"
   ]
  },
  {
   "cell_type": "code",
   "execution_count": null,
   "metadata": {},
   "outputs": [],
   "source": [
    "# Unhappiness bomb and affected people\n",
    "happiness_index = np.ones((num_customer,t_final))\n",
    "coord_unhappiness_bomb = np.random.rand(4,2)\n",
    "unhappy_distance = cdist(coord_customer,coord_unhappiness_bomb)\n",
    "unhappy_people_idx = np.min(unhappy_distance,axis=1)<unhappiness_bomb_diameter\n",
    "unhappy_days = set(np.random.choice(range(t_initial_period,t_final),num_unhappy_days,replace=False))\n",
    "\n",
    "fig = plt.figure(figsize=(10,10))\n",
    "ax= fig.gca()\n",
    "for x,y in coord_unhappiness_bomb:\n",
    "    q = plt.Circle((x,y),radius = 0.2,color='brown',alpha = 0.3)\n",
    "    ax.add_artist(q)\n",
    "plt.scatter(coord_unhappiness_bomb[:,0],coord_unhappiness_bomb[:,1],s=80,c='brown',alpha=0.6)\n",
    "plt.scatter(coord_customer[~unhappy_people_idx,0],coord_customer[~unhappy_people_idx,1],s=10,c='b')\n",
    "plt.scatter(coord_customer[unhappy_people_idx,0],coord_customer[unhappy_people_idx,1],s=10,c='m')\n",
    "plt.scatter(coord_restaurants[:,0],coord_restaurants[:,1],s=50,c='r')\n",
    "plt.legend(['Unhappiness','Customers','Affected Customers','Restaurants'])\n",
    "plt.title(\"Coordinates of Customer and Restaurants with Happiness\")\n",
    "plt.show()"
   ]
  },
  {
   "cell_type": "code",
   "execution_count": null,
   "metadata": {},
   "outputs": [],
   "source": [
    "# Customer visit generation after unhappiness addition\n",
    "# Because from now on probability distribution depends on the previous day, we can either:\n",
    "    # simulate each day with associated probability\n",
    "    # simulate days between unhappiness events\n",
    "# I choose the first one for better readability and maintainability\n",
    "for i in range(num_customer):\n",
    "    for day in range(t_initial_period,t_final):\n",
    "        happiness_index[i,day] = happiness_index[i,day-1]\n",
    "        if unhappy_people_idx[i] == True and day in unhappy_days:\n",
    "            if np.random.rand() < 0.5:\n",
    "                happiness_index[i,day] =0.9*happiness_index[i,day-1]\n",
    "        prob_go_out = happiness_index[i,day]*p_going_restaurant\n",
    "        if day % 7 >=5:\n",
    "            prob_go_out /= 2\n",
    "        if np.random.rand() > prob_go_out: #stay at home\n",
    "            visit_customer[i,day] = num_restaurants\n",
    "        else:\n",
    "            visit_customer[i,day] = np.random.choice(np.arange(num_restaurants),p=p_customer_restaurant[:,i])"
   ]
  },
  {
   "cell_type": "code",
   "execution_count": null,
   "metadata": {},
   "outputs": [],
   "source": [
    "# Showing the final dataset raw data\n",
    "# Unhappiness events can be seen by horizontal lines extruding after certain points\n",
    "plt.figure(figsize=(16,4))\n",
    "plt.imshow(visit_customer)\n",
    "plt.colorbar()\n",
    "plt.title('Customer Visit Table')\n",
    "plt.xlabel('Days')\n",
    "plt.ylabel('Customer #')\n",
    "plt.show()"
   ]
  },
  {
   "cell_type": "code",
   "execution_count": null,
   "metadata": {},
   "outputs": [],
   "source": [
    "# Table Generation\n",
    "import pandas as pd\n",
    "# Flatten numpy table and put it into a dataframe\n",
    "days = np.tile(np.arange(t_final),num_customer)\n",
    "customer = np.repeat(np.arange(num_customer),t_final)\n",
    "df_visit_customer = pd.DataFrame(np.stack((days,customer,visit_customer.flatten()),axis=1),columns=['Day','Customer','Restaurant'])\n",
    "df_happiness = pd.DataFrame(np.stack((days,customer,happiness_index.flatten()),axis=1),columns=['Day','Customer','Happiness'])\n",
    "# Replace last restaurant with 'Home'\n",
    "df_visit_customer['Restaurant'] = df_visit_customer['Restaurant'].apply(lambda x: 'Home' if x==num_restaurants else x)\n",
    "\n",
    "# Final Joined Dataset\n",
    "df = df_visit_customer.merge(df_happiness)"
   ]
  },
  {
   "cell_type": "code",
   "execution_count": null,
   "metadata": {},
   "outputs": [],
   "source": [
    "# Plots Requested on part 2:\n",
    "\n",
    "df_query_1 = df_happiness.query('Happiness <0.5').groupby('Day').count()['Customer']\n",
    "plt.plot(df_query_1)\n",
    "plt.title('Number of Customers with Happiness <0.5')\n",
    "plt.xlabel('Day')\n",
    "plt.ylabel('Count')\n",
    "plt.show()\n",
    "\n",
    "print('Number of customers at each restaurant on each day')\n",
    "df_query_2 = df.groupby(['Restaurant','Day']) \\\n",
    "    .count()['Customer'] \\\n",
    "    .unstack(level=1).fillna(0)\n",
    "display(df_query_2)\n",
    "plt.figure(figsize=(16,8))\n",
    "plt.imshow(df_query_2,aspect='auto')\n",
    "plt.title('Number of customers at each restaurant on each day')\n",
    "plt.xlabel('Day')\n",
    "plt.ylabel('Restaurant')\n",
    "plt.colorbar()\n",
    "plt.show()"
   ]
  },
  {
   "cell_type": "code",
   "execution_count": null,
   "metadata": {},
   "outputs": [],
   "source": [
    "print(\"Number of unhappy customers at each restaurant on each day\")\n",
    "df_query_3 = df.query('Happiness<0.5') \\\n",
    "    .groupby(['Restaurant','Day']) \\\n",
    "    .count()['Customer'] \\\n",
    "    .unstack(level=1).fillna(0)\n",
    "display(df_query_3)\n",
    "plt.figure(figsize=(16,8))\n",
    "plt.imshow(df_query_3,aspect='auto')\n",
    "plt.title('Number of customers at each restaurant on each day')\n",
    "plt.xlabel('Day')\n",
    "plt.ylabel('Restaurant')\n",
    "plt.colorbar()\n",
    "plt.show()"
   ]
  }
 ],
 "metadata": {
  "kernelspec": {
   "display_name": "Python 3",
   "language": "python",
   "name": "python3"
  },
  "language_info": {
   "codemirror_mode": {
    "name": "ipython",
    "version": 3
   },
   "file_extension": ".py",
   "mimetype": "text/x-python",
   "name": "python",
   "nbconvert_exporter": "python",
   "pygments_lexer": "ipython3",
   "version": "3.6.3"
  }
 },
 "nbformat": 4,
 "nbformat_minor": 2
}
